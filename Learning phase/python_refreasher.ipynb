{
 "cells": [
  {
   "cell_type": "code",
   "execution_count": 1,
   "id": "6ca2d550-f01e-481b-ba4f-353d5111c273",
   "metadata": {},
   "outputs": [
    {
     "name": "stdout",
     "output_type": "stream",
     "text": [
      "24\n",
      "alice\n"
     ]
    }
   ],
   "source": [
    "name = \"alice\"\n",
    "number = 24\n",
    "\n",
    "print(number)\n",
    "print(name)"
   ]
  },
  {
   "cell_type": "code",
   "execution_count": 2,
   "id": "89146f5e-6883-43f7-874c-c609b6853f12",
   "metadata": {},
   "outputs": [
    {
     "name": "stdout",
     "output_type": "stream",
     "text": [
      "[1, 2, 3]\n",
      "1\n"
     ]
    }
   ],
   "source": [
    "lst = [1,2,3];\n",
    "print(lst)\n",
    "print(lst[0])"
   ]
  },
  {
   "cell_type": "code",
   "execution_count": 3,
   "id": "2dec148c-9b9d-48e3-aa1f-500b4d3632dd",
   "metadata": {},
   "outputs": [
    {
     "name": "stdout",
     "output_type": "stream",
     "text": [
      "10\n"
     ]
    }
   ],
   "source": [
    "name = '10'\n",
    "nametoint = int(name)\n",
    "print(nametoint)"
   ]
  },
  {
   "cell_type": "code",
   "execution_count": 1,
   "id": "3a591be2-7fac-43ea-b2d4-9102253e001f",
   "metadata": {},
   "outputs": [
    {
     "name": "stdout",
     "output_type": "stream",
     "text": [
      "['s', 'a', 'j', 'i', 'd']\n",
      "d\n",
      "\n",
      "i\n",
      "\n",
      "j\n",
      "\n",
      "a\n",
      "\n",
      "s\n",
      "\n"
     ]
    }
   ],
   "source": [
    "name = \"sajid\"\n",
    "lst = list(name)\n",
    "print(lst)\n",
    "for i in range (1,6):\n",
    "    print(lst[i*-1]+'\\n');"
   ]
  },
  {
   "cell_type": "code",
   "execution_count": 6,
   "id": "c92df720-c903-4fa7-8d7e-c972c7e2e0c9",
   "metadata": {},
   "outputs": [
    {
     "name": "stdout",
     "output_type": "stream",
     "text": [
      " SAJID \n",
      " sajid \n",
      "sajid\n",
      "['My', 'name', 'is', 'sajid', 'and', 'I', 'live', 'in', 'Bangladesh']\n",
      "M\n",
      "y\n",
      "n\n",
      "a\n",
      "m\n",
      "e\n",
      "i\n",
      "s\n",
      "s\n",
      "a\n",
      "j\n",
      "i\n",
      "d\n",
      "a\n",
      "n\n",
      "d\n",
      "I\n",
      "l\n",
      "i\n",
      "v\n",
      "e\n",
      "i\n",
      "n\n",
      "B\n",
      "a\n",
      "n\n",
      "g\n",
      "l\n",
      "a\n",
      "d\n",
      "e\n",
      "s\n",
      "h\n"
     ]
    }
   ],
   "source": [
    "name = \" Sajid \"\n",
    "print(name.upper())\n",
    "print(name.lower())\n",
    "print((name.lower()).strip())\n",
    "\n",
    "ind = \"My name is sajid and I live in Bangladesh\"\n",
    "lst = ind.split();\n",
    "print(lst)\n",
    "for i in range(len(lst)):\n",
    "    str = lst[i]\n",
    "    for j in range (len(str)):\n",
    "        print(str[j])"
   ]
  },
  {
   "cell_type": "code",
   "execution_count": 11,
   "id": "4cdb8b7b-e89f-4da1-9f80-d37b73be4ecd",
   "metadata": {},
   "outputs": [
    {
     "name": "stdout",
     "output_type": "stream",
     "text": [
      "-1\n",
      "2\n"
     ]
    }
   ],
   "source": [
    "name = \"sajIdI\"\n",
    "ind = name.find(\"id\")\n",
    "print(ind)\n",
    "print(name.lower().count(\"i\"))"
   ]
  },
  {
   "cell_type": "code",
   "execution_count": 15,
   "id": "67af2d2d-4d81-43a4-ad80-854a80e6578e",
   "metadata": {},
   "outputs": [
    {
     "name": "stdout",
     "output_type": "stream",
     "text": [
      "sajid*tasin*ashik\n"
     ]
    }
   ],
   "source": [
    "lst = (\"sajid\",\"tasin\",\"ashik\");\n",
    "str = \"*\".join(lst)\n",
    "print(str)"
   ]
  },
  {
   "cell_type": "code",
   "execution_count": 25,
   "id": "5c3fb7eb-2d5f-42e2-8dd6-9be03911d9f8",
   "metadata": {},
   "outputs": [
    {
     "name": "stdout",
     "output_type": "stream",
     "text": [
      "True\n"
     ]
    }
   ],
   "source": [
    "print(1 and not 0)"
   ]
  },
  {
   "cell_type": "code",
   "execution_count": 29,
   "id": "7ed796c9-d8ef-4cff-84bf-75486604dccf",
   "metadata": {},
   "outputs": [
    {
     "name": "stdout",
     "output_type": "stream",
     "text": [
      "True\n"
     ]
    }
   ],
   "source": [
    "lst = [1,2,3,4]\n",
    "print(4 in lst)"
   ]
  },
  {
   "cell_type": "code",
   "execution_count": 38,
   "id": "96118b7a-2d1b-433c-adc7-06794715b59d",
   "metadata": {},
   "outputs": [
    {
     "name": "stdin",
     "output_type": "stream",
     "text": [
      "Enter your age 18\n"
     ]
    },
    {
     "name": "stdout",
     "output_type": "stream",
     "text": [
      "18.0\n",
      "You are good to go\n"
     ]
    }
   ],
   "source": [
    "inp = float(input(\"Enter your age\"))\n",
    "print(inp)\n",
    "\n",
    "if(inp <12):\n",
    "    print(\"You are a child\")\n",
    "elif (inp>11 and inp <18):\n",
    "    print(\"You are not adult yet\")\n",
    "else:\n",
    "    print(\"You are good to go\")"
   ]
  },
  {
   "cell_type": "code",
   "execution_count": 43,
   "id": "0c74d056-12af-4974-97ca-e68cdbcd00ad",
   "metadata": {},
   "outputs": [
    {
     "name": "stdin",
     "output_type": "stream",
     "text": [
      "Age  21\n",
      "Name:  sajid\n",
      "pi value 3.1456\n"
     ]
    },
    {
     "name": "stdout",
     "output_type": "stream",
     "text": [
      "Your name is sajid and you are 21 years old and you know the pi value as 3.15\n"
     ]
    }
   ],
   "source": [
    "age = int(input(\"Age \"))\n",
    "name = input(\"Name: \")\n",
    "flt = float(input(\"pi value\"))\n",
    "print(f\"Your name is {name} and you are {age} years old and you know the pi value as {flt:.2f}\")"
   ]
  },
  {
   "cell_type": "code",
   "execution_count": 52,
   "id": "32b69402-e782-4e30-9a89-4ecc66f0ba91",
   "metadata": {},
   "outputs": [
    {
     "name": "stdout",
     "output_type": "stream",
     "text": [
      "     sajid\n"
     ]
    }
   ],
   "source": [
    "name = \"sajid\"\n",
    "print(f\"{name:>10}\")"
   ]
  },
  {
   "cell_type": "code",
   "execution_count": 57,
   "id": "4b191550-1d85-4730-ba84-44e9438d451f",
   "metadata": {},
   "outputs": [
    {
     "name": "stdout",
     "output_type": "stream",
     "text": [
      "1.2.3.4."
     ]
    }
   ],
   "source": [
    "lst = [1,2,3,4]\n",
    "for el in lst:\n",
    "    print(el,end = \".\")"
   ]
  },
  {
   "cell_type": "code",
   "execution_count": 2,
   "id": "85d78b3e-f34a-483e-851f-2a4db3d55784",
   "metadata": {},
   "outputs": [
    {
     "name": "stdin",
     "output_type": "stream",
     "text": [
      "Enter number of element 5\n",
      "Enter 0th element 1\n",
      "Enter 1th element 2\n",
      "Enter 2th element 3\n",
      "Enter 3th element 4\n",
      "Enter 4th element 5\n"
     ]
    },
    {
     "name": "stdout",
     "output_type": "stream",
     "text": [
      "1 2 3 4 5 "
     ]
    }
   ],
   "source": [
    "lst = []\n",
    "n = int(input(\"Enter number of element\"))\n",
    "for i in range(n):\n",
    "    lst.append(int(input(f\"Enter {i}th element\")))\n",
    "for i in range(n):\n",
    "    print(lst[i],end = \" \")"
   ]
  },
  {
   "cell_type": "code",
   "execution_count": null,
   "id": "99ad8c13-b60e-40c6-ae37-f1b1f1c405bc",
   "metadata": {},
   "outputs": [],
   "source": [
    "n = int(input(\"Enter number of element\"))\n",
    "# lst = list(map(int,input(\"Enter elements\").split()))\n",
    "#print(lst)\n",
    "\n",
    "lst1 = list(map(int,input(\"Enter elements again\").split()))\n",
    "print(lst1)"
   ]
  },
  {
   "cell_type": "code",
   "execution_count": 13,
   "id": "2089041e-db32-4ec7-b591-5bd2ff311ce6",
   "metadata": {},
   "outputs": [
    {
     "name": "stdout",
     "output_type": "stream",
     "text": [
      "7\n"
     ]
    }
   ],
   "source": [
    "lst = [1,2,3,7,4]\n",
    "lst.extend([5,6,9])\n",
    "lst.insert(2,10)\n",
    "print(lst.index(6))"
   ]
  },
  {
   "cell_type": "code",
   "execution_count": 17,
   "id": "1418a92e-e9ff-4b90-8482-952472755400",
   "metadata": {},
   "outputs": [
    {
     "name": "stdin",
     "output_type": "stream",
     "text": [
      "Enter elements 1 2 3 5 3 4 5\n"
     ]
    },
    {
     "name": "stdout",
     "output_type": "stream",
     "text": [
      "2\n"
     ]
    }
   ],
   "source": [
    "tpl = tuple(map(int,input(\"Enter elements\").split()))\n",
    "print(tpl.count(5))"
   ]
  },
  {
   "cell_type": "code",
   "execution_count": 21,
   "id": "f066f339-0b4a-47a6-ab00-c96e12266557",
   "metadata": {},
   "outputs": [
    {
     "name": "stdout",
     "output_type": "stream",
     "text": [
      "21\n",
      "Sajid\n"
     ]
    }
   ],
   "source": [
    "person = (\"Sajid\",21,\"Student\")\n",
    "name,age,proff = person\n",
    "print(age)\n",
    "print(name)"
   ]
  },
  {
   "cell_type": "code",
   "execution_count": 26,
   "id": "f1f9e2b3-da7d-4b7e-93ef-989d9c968583",
   "metadata": {},
   "outputs": [
    {
     "name": "stdin",
     "output_type": "stream",
     "text": [
      "Enter number of element 5\n",
      " 2 1 3 5 2\n"
     ]
    },
    {
     "name": "stdout",
     "output_type": "stream",
     "text": [
      "{1, 2, 3, 5}\n",
      "1 2 3 5 "
     ]
    }
   ],
   "source": [
    "n = int(input(\"Enter number of element\"))\n",
    "st = set(map(int,input().split()));\n",
    "print(st)\n",
    "for el in st:\n",
    "    print(el,end =\" \")"
   ]
  },
  {
   "cell_type": "code",
   "execution_count": 8,
   "id": "da0c13dc-dd51-4640-b5b3-1856c3755195",
   "metadata": {},
   "outputs": [
    {
     "name": "stdout",
     "output_type": "stream",
     "text": [
      "student\n",
      "{24, 'proff', 'name', 'age'}\n"
     ]
    }
   ],
   "source": [
    "dct = {\n",
    "    \"name\" : \"sajid\",\n",
    "    \"age\" : 21,\n",
    "    \"proff\" : {\n",
    "        \"Full time\" :\"student\",\n",
    "        \"Part time\" :\"Programmer\"\n",
    "    },\n",
    "    24 : \"What\"\n",
    "}\n",
    "print(dct[\"proff\"][\"Full time\"])\n",
    "\n",
    "lst = set(dct.keys())\n",
    "print(lst)\n"
   ]
  },
  {
   "cell_type": "code",
   "execution_count": 3,
   "id": "05a398cd-9f23-439d-9116-249029037b76",
   "metadata": {},
   "outputs": [
    {
     "name": "stdin",
     "output_type": "stream",
     "text": [
      "Enten number of element 2\n",
      "Enter key name\n"
     ]
    },
    {
     "name": "stdout",
     "output_type": "stream",
     "text": [
      "If values are list enter 1 else 2\n"
     ]
    },
    {
     "name": "stdin",
     "output_type": "stream",
     "text": [
      " 1\n",
      "Enter values sajid ashik\n",
      "Enter key age\n"
     ]
    },
    {
     "name": "stdout",
     "output_type": "stream",
     "text": [
      "If values are list enter 1 else 2\n"
     ]
    },
    {
     "name": "stdin",
     "output_type": "stream",
     "text": [
      " 1\n",
      "Enter values 21 22\n"
     ]
    },
    {
     "name": "stdout",
     "output_type": "stream",
     "text": [
      "{'name': ['sajid', 'ashik'], 'age': ['21', '22']}\n"
     ]
    }
   ],
   "source": [
    "newdct ={};\n",
    "n = int(input(\"Enten number of element\"))\n",
    "for i in range (n):\n",
    "    x = input(\"Enter key\");\n",
    "    print(\"If values are list enter 1 else 2\")\n",
    "    a = int(input());\n",
    " \n",
    "    if(a == 2):\n",
    "        y = input(\"Enter value\")\n",
    "    else:\n",
    "        y = list(map(str,input(\"Enter values\").split()))\n",
    "    newdct[x] = y;\n",
    "print(newdct)"
   ]
  },
  {
   "cell_type": "code",
   "execution_count": 7,
   "id": "09d7b962-8a72-479f-9eae-f61b103e028a",
   "metadata": {},
   "outputs": [
    {
     "name": "stdout",
     "output_type": "stream",
     "text": [
      "[0, 2, 4, 6, 8, 10, 12, 14, 16, 18, 20, 22, 24, 26, 28, 30, 32, 34, 36, 38, 40, 42, 44, 46, 48, 50, 52, 54, 56, 58, 60, 62, 64, 66, 68, 70, 72, 74, 76, 78, 80, 82, 84, 86, 88, 90, 92, 94, 96, 98] "
     ]
    }
   ],
   "source": [
    "arr = [x for x in range(100) if x%2 == 0]\n",
    "print(arr,end = \" \")"
   ]
  }
 ],
 "metadata": {
  "kernelspec": {
   "display_name": "Python 3 (ipykernel)",
   "language": "python",
   "name": "python3"
  },
  "language_info": {
   "codemirror_mode": {
    "name": "ipython",
    "version": 3
   },
   "file_extension": ".py",
   "mimetype": "text/x-python",
   "name": "python",
   "nbconvert_exporter": "python",
   "pygments_lexer": "ipython3",
   "version": "3.13.2"
  }
 },
 "nbformat": 4,
 "nbformat_minor": 5
}
